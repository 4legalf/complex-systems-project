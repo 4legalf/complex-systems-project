{
 "cells": [
  {
   "cell_type": "code",
   "execution_count": 1,
   "id": "40afa709",
   "metadata": {},
   "outputs": [],
   "source": [
    "import numpy as np\n",
    "import matplotlib.pyplot as plt\n",
    "from scipy.spatial.distance import pdist, squareform\n",
    "import sys\n",
    "sys.path.append('..')\n",
    "import complexitylib as complex"
   ]
  },
  {
   "cell_type": "code",
   "execution_count": 2,
   "id": "1f3ad14e",
   "metadata": {},
   "outputs": [],
   "source": [
    "def compare_6_groups(eeg_data, group_labels, conditions, m=10, tau=1):\n",
    "    \"\"\"\n",
    "    eeg_data: np.ndarray of shape (n_subjects, n_channels, n_timepoints)\n",
    "    group_labels: list of group IDs (e.g., [0, 1, 2, 0, 1, 2, ...])\n",
    "    conditions: list of 'pre' or 'post' strings (same length as group_labels)\n",
    "    \"\"\"\n",
    "    assert len(group_labels) == len(conditions) == eeg_data.shape[0], \"Mismatch in input sizes.\"\n",
    "\n",
    "    # Group storage: (group_id, condition) → list of per-subject D2 means\n",
    "    from collections import defaultdict\n",
    "    group_data = defaultdict(list)\n",
    "\n",
    "    for i in range(eeg_data.shape[0]):\n",
    "        dims = complex.compute_subject_dims(eeg_data[i], m=m, tau=tau)\n",
    "        mean_dim = np.mean(dims)\n",
    "        key = (group_labels[i], conditions[i])\n",
    "        group_data[key].append(mean_dim)\n",
    "\n",
    "    # Convert to list for plotting\n",
    "    all_groups = sorted(group_data.keys())\n",
    "    plot_data = [group_data[key] for key in all_groups]\n",
    "    group_names = [f\"Group {g+1} ({c})\" for g, c in all_groups]\n",
    "\n",
    "    # Plot\n",
    "    plt.figure(figsize=(10, 5))\n",
    "    plt.boxplot(plot_data, labels=group_names)\n",
    "    plt.ylabel(\"Mean Correlation Dimension\")\n",
    "    plt.title(\"Correlation Dimension: Pre vs Post per Group\")\n",
    "    plt.xticks(rotation=45)\n",
    "    plt.grid(True)\n",
    "    plt.tight_layout()\n",
    "    plt.show()\n",
    "\n",
    "    return group_data\n"
   ]
  },
  {
   "cell_type": "code",
   "execution_count": 3,
   "id": "0e50ad7b",
   "metadata": {},
   "outputs": [],
   "source": [
    "# Convert patients_clusters.csv to a numpy 2darray\n",
    "\n",
    "file_path = '../output/patients_clusters.csv'\n",
    "\n",
    "# csv to numpy 2darray\n",
    "clusters = np.loadtxt(file_path, delimiter=',', skiprows=1, dtype=str)"
   ]
  },
  {
   "cell_type": "code",
   "execution_count": 4,
   "id": "7e5bc576",
   "metadata": {},
   "outputs": [],
   "source": [
    "patients = []\n",
    "for i, pat in enumerate(clusters):\n",
    "    patients.append(complex.Patient(name=pat[0], cluster=int(pat[1]), patient_id=i))\n"
   ]
  },
  {
   "cell_type": "code",
   "execution_count": 5,
   "id": "9e8e83b1",
   "metadata": {},
   "outputs": [],
   "source": [
    "# drop patients DD09, DD45 and DD53 because they miss a second recording\n",
    "# drop patients DD28 because their second recording is corrupted\n",
    "patients = [p for p in patients if p.name not in ['DD09', 'DD28', 'DD45', 'DD53']]"
   ]
  },
  {
   "cell_type": "code",
   "execution_count": 6,
   "id": "d36317b5",
   "metadata": {},
   "outputs": [],
   "source": [
    "aggregate_data = []\n",
    "group_labels = []\n",
    "conditions = []\n",
    "\n",
    "\n",
    "unique_clusters = set(p.cluster for p in patients)\n",
    "for i in range(len(unique_clusters)):\n",
    "    # get patients in cluster i\n",
    "    patients_in_cluster = [p for p in patients if p.cluster == i]\n",
    "    group_data = []\n",
    "    for pat in patients_in_cluster:\n",
    "        # pre-treatment\n",
    "        signal, channels = pat.get_eeg_before()\n",
    "        # signal as nested list\n",
    "        group_data.append(signal.tolist())\n",
    "        group_labels.append(pat.cluster)\n",
    "        conditions.append('pre')\n",
    "    aggregate_data.append(group_data)\n",
    "    group_data = []\n",
    "    for pat in patients_in_cluster:\n",
    "        # post-treatment\n",
    "        signal, channels = pat.get_eeg_after()\n",
    "        group_data.append(signal.tolist())\n",
    "        group_labels.append(pat.cluster)\n",
    "        conditions.append('post')\n",
    "    aggregate_data.append(group_data)"
   ]
  },
  {
   "cell_type": "code",
   "execution_count": 11,
   "id": "590b1cd4",
   "metadata": {},
   "outputs": [
    {
     "name": "stdout",
     "output_type": "stream",
     "text": [
      "6\n",
      "24\n",
      "32\n",
      "92\n",
      "92\n"
     ]
    }
   ],
   "source": [
    "print(len(aggregate_data))\n",
    "print(len(aggregate_data[0]))\n",
    "print(len(aggregate_data[0][0]))\n",
    "print(len(group_labels))\n",
    "print(len(conditions))"
   ]
  },
  {
   "cell_type": "code",
   "execution_count": null,
   "id": "0401137c",
   "metadata": {},
   "outputs": [
    {
     "name": "stdout",
     "output_type": "stream",
     "text": [
      "(2944, 89600)\n"
     ]
    }
   ],
   "source": [
    "# Ensure all arrays in group_data have the same size along dimension 1\n",
    "min_length = min(signal.shape[1] for signal in group_data)\n",
    "group_data = [signal[:, :min_length] for signal in group_data]\n",
    "\n",
    "# Merge all EEGs\n",
    "eeg_data_all = np.concatenate(group_data, axis=0)\n",
    "\n",
    "print(eeg_data_all.shape)\n",
    "\n",
    "# Run analysis\n",
    "# results = compare_6_groups(eeg_data_all, group_labels, conditions, m=8, tau=2)\n",
    "\n",
    "        "
   ]
  }
 ],
 "metadata": {
  "kernelspec": {
   "display_name": "MNEDemo",
   "language": "python",
   "name": "python3"
  },
  "language_info": {
   "codemirror_mode": {
    "name": "ipython",
    "version": 3
   },
   "file_extension": ".py",
   "mimetype": "text/x-python",
   "name": "python",
   "nbconvert_exporter": "python",
   "pygments_lexer": "ipython3",
   "version": "3.12.9"
  }
 },
 "nbformat": 4,
 "nbformat_minor": 5
}
