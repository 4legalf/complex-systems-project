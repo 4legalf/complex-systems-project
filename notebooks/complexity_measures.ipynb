{
 "cells": [
  {
   "cell_type": "code",
   "execution_count": 1,
   "id": "40afa709",
   "metadata": {},
   "outputs": [],
   "source": [
    "import numpy as np\n",
    "import matplotlib.pyplot as plt\n",
    "from scipy.spatial.distance import pdist, squareform\n",
    "import sys\n",
    "sys.path.append('..')\n",
    "import complexitylib as complex"
   ]
  },
  {
   "cell_type": "code",
   "execution_count": 2,
   "id": "0e50ad7b",
   "metadata": {},
   "outputs": [],
   "source": [
    "# Convert patients_clusters.csv to a numpy 2darray\n",
    "\n",
    "file_path = '../output/patients_clusters.csv'\n",
    "\n",
    "# csv to numpy 2darray\n",
    "clusters = np.loadtxt(file_path, delimiter=',', skiprows=1, dtype=str)"
   ]
  },
  {
   "cell_type": "code",
   "execution_count": 3,
   "id": "7e5bc576",
   "metadata": {},
   "outputs": [],
   "source": [
    "patients = []\n",
    "for i, pat in enumerate(clusters):\n",
    "    patients.append(complex.Patient(name=pat[0], cluster=int(pat[1]), id=i))\n"
   ]
  },
  {
   "cell_type": "code",
   "execution_count": 4,
   "id": "9e8e83b1",
   "metadata": {},
   "outputs": [],
   "source": [
    "# drop patients DD09, DD45 and DD53 because they miss a second recording\n",
    "# drop patients DD28 because their second recording is corrupted\n",
    "patients = [p for p in patients if p.name not in ['DD09', 'DD28', 'DD45', 'DD53']]"
   ]
  },
  {
   "cell_type": "code",
   "execution_count": 5,
   "id": "02546524",
   "metadata": {},
   "outputs": [
    {
     "name": "stdout",
     "output_type": "stream",
     "text": [
      "(32, 95744)\n"
     ]
    }
   ],
   "source": [
    "rec, labels = patients[0].get_eeg_before()\n",
    "print(rec.shape)\n",
    "ch1 = rec[0].tolist()"
   ]
  },
  {
   "cell_type": "code",
   "execution_count": 7,
   "id": "d36317b5",
   "metadata": {},
   "outputs": [],
   "source": [
    "aggregate_data = []\n",
    "group_labels = []\n",
    "conditions = []\n",
    "\n",
    "\n",
    "unique_clusters = set(p.cluster for p in patients)\n",
    "for i in range(len(unique_clusters)):\n",
    "    # get patients in cluster i\n",
    "    patients_in_cluster = [p for p in patients if p.cluster == i]\n",
    "    group_data = []\n",
    "    for pat in patients_in_cluster:\n",
    "        # pre-treatment\n",
    "        signal, channels = pat.get_eeg_before()\n",
    "        # signal as nested list\n",
    "        group_data.append(signal.tolist())\n",
    "        group_labels.append(pat.cluster)\n",
    "        conditions.append('pre')\n",
    "    aggregate_data.append(group_data)\n",
    "    group_data = []\n",
    "    for pat in patients_in_cluster:\n",
    "        # post-treatment\n",
    "        signal, channels = pat.get_eeg_after()\n",
    "        group_data.append(signal.tolist())\n",
    "        group_labels.append(pat.cluster)\n",
    "        conditions.append('post')\n",
    "    aggregate_data.append(group_data)"
   ]
  },
  {
   "cell_type": "code",
   "execution_count": 8,
   "id": "590b1cd4",
   "metadata": {},
   "outputs": [
    {
     "name": "stdout",
     "output_type": "stream",
     "text": [
      "6\n",
      "24\n",
      "32\n",
      "95744\n",
      "92\n",
      "92\n"
     ]
    }
   ],
   "source": [
    "print(len(aggregate_data))\n",
    "print(len(aggregate_data[0]))\n",
    "print(len(aggregate_data[0][0]))\n",
    "print(len(aggregate_data[0][0][0]))\n",
    "\n",
    "print(len(group_labels))\n",
    "print(len(conditions))"
   ]
  }
 ],
 "metadata": {
  "kernelspec": {
   "display_name": "MNEDemo",
   "language": "python",
   "name": "python3"
  },
  "language_info": {
   "codemirror_mode": {
    "name": "ipython",
    "version": 3
   },
   "file_extension": ".py",
   "mimetype": "text/x-python",
   "name": "python",
   "nbconvert_exporter": "python",
   "pygments_lexer": "ipython3",
   "version": "3.12.9"
  }
 },
 "nbformat": 4,
 "nbformat_minor": 5
}
